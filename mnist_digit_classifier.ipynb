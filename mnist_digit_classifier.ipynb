{
  "cells": [
    {
      "cell_type": "markdown",
      "metadata": {
        "id": "esaJnlXP3ZWP"
      },
      "source": [
        "# MNIST Digit Classifier\n",
        "\n",
        "### 1. Performing ETL on the datasets"
      ]
    },
    {
      "cell_type": "code",
      "execution_count": null,
      "metadata": {
        "id": "lfB-4v5221Sy",
        "outputId": "ff857ac0-1ca2-4ba4-ef41-b7b57a901d00"
      },
      "outputs": [
        {
          "name": "stdout",
          "output_type": "stream",
          "text": [
            "Extracting  t10k-images-idx3-ubyte.gz\n",
            "Extracting  train-labels-idx1-ubyte.gz\n",
            "Extracting  train-images-idx3-ubyte.gz\n",
            "Extracting  t10k-labels-idx1-ubyte.gz\n",
            "Extraction Complete\n"
          ]
        }
      ],
      "source": [
        "import os\n",
        "import gzip\n",
        "import shutil\n",
        "\n",
        "os.makedirs(\"dataset\", exist_ok=False)\n",
        "\n",
        "path = \"data/\"\n",
        "\n",
        "files = os.listdir(path)\n",
        "for file in files:\n",
        "    if file.endswith(\"gz\"):\n",
        "        print(\"Extracting \", file)\n",
        "        #Extracting the dataset\n",
        "        with gzip.open(path + file, \"rb\") as gzfile:\n",
        "            with open(\"dataset/\" + file.split(\".\")[0], \"wb\") as ubytefile:\n",
        "                shutil.copyfileobj(f_in, f_out)\n",
        "\n",
        "print(\"Extraction Complete\")"
      ]
    },
    {
      "cell_type": "code",
      "execution_count": 4,
      "metadata": {
        "id": "xvyKCKAt6wec"
      },
      "outputs": [],
      "source": [
        "\n",
        "\n",
        "#Drive path used as a colab notebook, redundent.\n",
        "#drive_path = \"drive/MyDrive/Colab_Notebooks/\""
      ]
    },
    {
      "cell_type": "code",
      "execution_count": 5,
      "metadata": {
        "colab": {
          "base_uri": "https://localhost:8080/"
        },
        "id": "Dex0WNxs21S2",
        "outputId": "273576a6-8fa3-40a2-b34b-d31fc06f4478"
      },
      "outputs": [
        {
          "name": "stdout",
          "output_type": "stream",
          "text": [
            "Looking in indexes: https://pypi.org/simple, https://us-python.pkg.dev/colab-wheels/public/simple/\n",
            "Requirement already satisfied: idx2numpy in /usr/local/lib/python3.7/dist-packages (1.2.3)\n",
            "Requirement already satisfied: numpy in /usr/local/lib/python3.7/dist-packages (from idx2numpy) (1.21.6)\n",
            "Requirement already satisfied: six in /usr/local/lib/python3.7/dist-packages (from idx2numpy) (1.15.0)\n",
            "['t10k-images-idx3-ubyte', 'train-labels-idx1-ubyte', 't10k-labels-idx1-ubyte', 'train-images-idx3-ubyte']\n"
          ]
        }
      ],
      "source": [
        "#!pip install idx2numpy\n",
        "import os\n",
        "import numpy as np\n",
        "import idx2numpy as idx\n",
        "\n",
        "#data = drive_path + \"dataset/\"\n",
        "data = \"dataset/\" #Device path\n",
        "files = os.listdir(data)\n",
        "print(files)\n",
        "#Extracting training and test data\n",
        "y_train= idx.convert_from_file(data + 'train-labels-idx1-ubyte')\n",
        "y_test= idx.convert_from_file(data + 't10k-labels-idx1-ubyte')\n",
        "X_train = idx.convert_from_file(data + 'train-images-idx3-ubyte')\n",
        "X_test = idx.convert_from_file(data + 't10k-images-idx3-ubyte')\n"
      ]
    },
    {
      "cell_type": "code",
      "execution_count": 6,
      "metadata": {
        "colab": {
          "base_uri": "https://localhost:8080/",
          "height": 168
        },
        "id": "80ysumWv21S2",
        "outputId": "f2ca2c49-4bdc-453e-8314-b0f690c62740"
      },
      "outputs": [
        {
          "data": {
            "image/png": "[encoded data removed]",
            "text/plain": [
              "<Figure size 720x216 with 4 Axes>"
            ]
          },
          "metadata": {
            "needs_background": "light"
          },
          "output_type": "display_data"
        }
      ],
      "source": [
        "import matplotlib.pyplot as plt\n",
        "%matplotlib inline\n",
        "\n",
        "#Display first 4 images in dataset\n",
        "_, axes = plt.subplots(nrows=1, ncols=4, figsize=(10, 3))\n",
        "for ax, image, label in zip(axes, X_train[:4], y_train[:4]):\n",
        "    ax.set_axis_off()\n",
        "    ax.imshow(image, cmap=plt.cm.binary, interpolation=\"nearest\")\n",
        "    ax.set_title(f\"Label: {label}\")"
      ]
    },
    {
      "cell_type": "code",
      "execution_count": 3,
      "metadata": {
        "colab": {
          "base_uri": "https://localhost:8080/"
        },
        "id": "TazAhBQtOagN",
        "outputId": "bb3c8593-04ce-417a-8b53-ba3dafe1aed7"
      },
      "outputs": [
        {
          "name": "stdout",
          "output_type": "stream",
          "text": [
            "Mounted at /content/drive\n"
          ]
        }
      ],
      "source": [
        "#used to mount google drive to \n",
        "\n",
        "#from google.colab import drive\n",
        "#drive.mount('/content/drive')"
      ]
    },
    {
      "cell_type": "code",
      "execution_count": 7,
      "metadata": {
        "colab": {
          "base_uri": "https://localhost:8080/"
        },
        "id": "TsfgOGld21S3",
        "outputId": "2e4b124e-fb2d-4959-e441-b699ce453ac6"
      },
      "outputs": [
        {
          "name": "stdout",
          "output_type": "stream",
          "text": [
            "(60000, 784) (10000, 784)\n"
          ]
        }
      ],
      "source": [
        "X_train = np.reshape(X_train, (len(X_train), -1))\n",
        "X_test = np.reshape(X_test, (len(X_test), -1))\n",
        "\n",
        "print(X_train.shape, X_test.shape)"
      ]
    },
    {
      "cell_type": "code",
      "execution_count": 8,
      "metadata": {
        "id": "HMt-DvC421S3"
      },
      "outputs": [],
      "source": [
        "#Import Libraries\n",
        "\n",
        "from sklearn.preprocessing import MinMaxScaler\n",
        "from sklearn.svm import SVC\n",
        "from sklearn.metrics import accuracy_score, f1_score\n",
        "from sklearn.metrics import confusion_matrix, ConfusionMatrixDisplay\n",
        "from sklearn.model_selection import GridSearchCV"
      ]
    },
    {
      "cell_type": "code",
      "execution_count": 9,
      "metadata": {
        "id": "tJgM_7xu21S4"
      },
      "outputs": [],
      "source": [
        "\n",
        "scaler = MinMaxScaler() #The scale ranges from 0 to 1\n",
        "X_train = scaler.fit_transform(X_train)\n",
        "X_test = scaler.fit_transform(X_test)"
      ]
    },
    {
      "cell_type": "code",
      "execution_count": 10,
      "metadata": {
        "colab": {
          "base_uri": "https://localhost:8080/"
        },
        "id": "blDNLdkn21S4",
        "outputId": "bfb3b0ab-cf25-40f5-dfee-a9919f9084fd"
      },
      "outputs": [
        {
          "data": {
            "text/plain": [
              "GridSearchCV(cv=5, estimator=SVC(),\n",
              "             param_grid={'C': [100, 10, 1, 0.1], 'gamma': ['scale'],\n",
              "                         'kernel': ['rbf']},\n",
              "             refit='accuracy', scoring='accuracy')"
            ]
          },
          "execution_count": 10,
          "metadata": {},
          "output_type": "execute_result"
        }
      ],
      "source": [
        "#Tuning Hyper parameters to find the best regularization strength\n",
        "model = SVC()\n",
        "parameters = {\n",
        "        'kernel' : ['rbf'], 'C' : [100,10,1,0.1], 'gamma' : ['scale']\n",
        "    }\n",
        "\n",
        "svm = GridSearchCV(estimator = model, param_grid = parameters,\n",
        " scoring = 'accuracy', refit = 'accuracy', cv = 5)\n",
        "\n",
        "svm.fit(X_train, y_train)\n",
        "\n",
        "#Note: Using polynomial models with degree range upto 9 seemed like a good candidate for tuning\n",
        "#yet not viable as the model training time we sharply higher, and PCA didnt show any\n",
        "#remarkable results. It would also require deskewing of the images which was not possible."
      ]
    },
    {
      "cell_type": "code",
      "execution_count": 13,
      "metadata": {
        "colab": {
          "base_uri": "https://localhost:8080/"
        },
        "id": "Sw2lP7e7xLXO",
        "outputId": "32716188-3a12-4347-bda4-88cb381e7de7"
      },
      "outputs": [
        {
          "data": {
            "text/plain": [
              "0.9819166666666665"
            ]
          },
          "execution_count": 13,
          "metadata": {},
          "output_type": "execute_result"
        }
      ],
      "source": [
        "#best score achieved after hyper parameter tuning\n",
        "svm.best_score_"
      ]
    },
    {
      "cell_type": "code",
      "execution_count": 12,
      "metadata": {
        "colab": {
          "base_uri": "https://localhost:8080/"
        },
        "id": "oJ3MzcOFvLBM",
        "outputId": "4bbadcd4-4056-42f7-f7ae-d0b6b48be918"
      },
      "outputs": [
        {
          "data": {
            "text/plain": [
              "{'C': 10, 'gamma': 'scale', 'kernel': 'rbf'}"
            ]
          },
          "execution_count": 12,
          "metadata": {},
          "output_type": "execute_result"
        }
      ],
      "source": [
        "#best parameters\n",
        "svm.best_params_"
      ]
    },
    {
      "cell_type": "code",
      "execution_count": 15,
      "metadata": {
        "colab": {
          "base_uri": "https://localhost:8080/"
        },
        "id": "T63CxI5lx1dR",
        "outputId": "43e13f59-23f1-45a9-fe56-4b67ca01c6db"
      },
      "outputs": [
        {
          "name": "stdout",
          "output_type": "stream",
          "text": [
            "Looking in indexes: https://pypi.org/simple, https://us-python.pkg.dev/colab-wheels/public/simple/\n",
            "Collecting pickle-mixin\n",
            "  Downloading pickle-mixin-1.0.2.tar.gz (5.1 kB)\n",
            "Building wheels for collected packages: pickle-mixin\n",
            "  Building wheel for pickle-mixin (setup.py) ... \u001b[?25l\u001b[?25hdone\n",
            "  Created wheel for pickle-mixin: filename=pickle_mixin-1.0.2-py3-none-any.whl size=6008 sha256=dbc606de57586bd455817b06f50de5f8460032d3ceabdb7977c85999c3a98753\n",
            "  Stored in directory: /root/.cache/pip/wheels/d0/70/0b/673e09a7ed429660d22352a1b117b4f616a8fc054bdd7eb157\n",
            "Successfully built pickle-mixin\n",
            "Installing collected packages: pickle-mixin\n",
            "Successfully installed pickle-mixin-1.0.2\n"
          ]
        }
      ],
      "source": [
        "#!pip install pickle-mixin\n",
        "#import pickle\n",
        "\n",
        "\n",
        "#Used to download gogole colab model"
      ]
    },
    {
      "cell_type": "code",
      "execution_count": 16,
      "metadata": {
        "id": "dhSUADqk21S5"
      },
      "outputs": [],
      "source": [
        "#Train the model using best possible parameters\n",
        "mnist_classifier = SVC(**svm.best_params_)\n",
        "\n",
        "mnist_classifier.fit(X_train, y_train)"
      ]
    },
    {
      "cell_type": "code",
      "execution_count": 19,
      "metadata": {
        "colab": {
          "base_uri": "https://localhost:8080/",
          "height": 348
        },
        "id": "i3gMqpHn21S5",
        "outputId": "da2bc62b-ba67-4df1-d4b8-21a1960655e8"
      },
      "outputs": [
        {
          "name": "stdout",
          "output_type": "stream",
          "text": [
            "(10000,)\n",
            "(10000,)\n",
            "accuracy = 0.9838\n"
          ]
        },
        {
          "data": {
            "text/plain": [
              "<sklearn.metrics._plot.confusion_matrix.ConfusionMatrixDisplay at 0x7f4d21191590>"
            ]
          },
          "execution_count": 19,
          "metadata": {},
          "output_type": "execute_result"
        },
        {
          "data": {
            "image/png": "[encoded data removed]",
            "text/plain": [
              "<Figure size 432x288 with 2 Axes>"
            ]
          },
          "metadata": {
            "needs_background": "light"
          },
          "output_type": "display_data"
        }
      ],
      "source": [
        "#Testing the model accuracy\n",
        "y_pred = mnist_classifier.predict(X_test)\n",
        "\n",
        "print(y_pred.shape)\n",
        "print(y_test.shape)\n",
        "print(f'''\\\n",
        "accuracy = {accuracy_score(y_test, y_pred)}\\\n",
        "''')\n",
        "\n",
        "cmd2 = ConfusionMatrixDisplay(confusion_matrix(y_test,y_pred), display_labels= np.arange(0,10))\n",
        "cmd2.plot()"
      ]
    },
    {
      "cell_type": "code",
      "execution_count": 20,
      "metadata": {
        "id": "eEwEMhgm21S6"
      },
      "outputs": [],
      "source": [
        "#Code used on google colab to save model in a pickle file.\n",
        "\n",
        "#pickle.dump(mnist_classifier, open(data + 'model.pkl', 'wb'))"
      ]
    },
    {
      "cell_type": "code",
      "execution_count": null,
      "metadata": {
        "id": "_LSg8B2r4Iva"
      },
      "outputs": [],
      "source": []
    }
  ],
  "metadata": {
    "colab": {
      "collapsed_sections": [],
      "name": "mnist_digit_classifier.ipynb",
      "provenance": []
    },
    "interpreter": {
      "hash": "ed58152a759b33edd241abce9a46ff0a63148b2e0703a7a53ffb5c2f0aa1fe7b"
    },
    "kernelspec": {
      "display_name": "Python 3.9.12 ('mnist_classifier')",
      "language": "python",
      "name": "python3"
    },
    "language_info": {
      "codemirror_mode": {
        "name": "ipython",
        "version": 3
      },
      "file_extension": ".py",
      "mimetype": "text/x-python",
      "name": "python",
      "nbconvert_exporter": "python",
      "pygments_lexer": "ipython3",
      "version": "3.9.12"
    },
    "orig_nbformat": 4
  },
  "nbformat": 4,
  "nbformat_minor": 0
}
